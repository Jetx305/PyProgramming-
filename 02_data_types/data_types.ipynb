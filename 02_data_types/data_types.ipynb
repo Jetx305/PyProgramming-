{
 "cells": [
  {
   "cell_type": "code",
   "execution_count": 3,
   "id": "5cf075fc",
   "metadata": {},
   "outputs": [
    {
     "name": "stdout",
     "output_type": "stream",
     "text": [
      "54\n",
      "64\n",
      "8\n"
     ]
    }
   ],
   "source": [
    "print(int(54.3))\n",
    "print(int(\"100\",8))\n",
    "print(int(\"1000\",2))"
   ]
  },
  {
   "cell_type": "code",
   "execution_count": 5,
   "id": "f38c29c7",
   "metadata": {},
   "outputs": [
    {
     "name": "stdout",
     "output_type": "stream",
     "text": [
      "True\n",
      "True\n",
      "False\n"
     ]
    }
   ],
   "source": [
    "# bool BIF\n",
    "# True False\n",
    "print(bool(True))\n",
    "print(bool(1))\n",
    "print(bool(0))\n"
   ]
  },
  {
   "cell_type": "code",
   "execution_count": 6,
   "id": "cf5b085f",
   "metadata": {},
   "outputs": [
    {
     "name": "stdout",
     "output_type": "stream",
     "text": [
      "0.30000000000000004\n"
     ]
    }
   ],
   "source": [
    "# floats\n",
    "n = .1\n",
    "print(n + n + n)"
   ]
  },
  {
   "cell_type": "code",
   "execution_count": 8,
   "id": "2557418f",
   "metadata": {},
   "outputs": [
    {
     "name": "stdout",
     "output_type": "stream",
     "text": [
      "0.3\n"
     ]
    }
   ],
   "source": [
    "# decimal\n",
    "from decimal import Decimal \n",
    "d = Decimal(\"0.1\") + Decimal(\"0.1\") + Decimal(\"0.1\")\n",
    "print(d)"
   ]
  },
  {
   "cell_type": "code",
   "execution_count": 10,
   "id": "49af7b24",
   "metadata": {},
   "outputs": [
    {
     "name": "stdout",
     "output_type": "stream",
     "text": [
      "['__add__', '__class__', '__contains__', '__delattr__', '__dir__', '__doc__', '__eq__', '__format__', '__ge__', '__getattribute__', '__getitem__', '__getnewargs__', '__getstate__', '__gt__', '__hash__', '__init__', '__init_subclass__', '__iter__', '__le__', '__len__', '__lt__', '__mod__', '__mul__', '__ne__', '__new__', '__reduce__', '__reduce_ex__', '__repr__', '__rmod__', '__rmul__', '__setattr__', '__sizeof__', '__str__', '__subclasshook__', 'capitalize', 'casefold', 'center', 'count', 'encode', 'endswith', 'expandtabs', 'find', 'format', 'format_map', 'index', 'isalnum', 'isalpha', 'isascii', 'isdecimal', 'isdigit', 'isidentifier', 'islower', 'isnumeric', 'isprintable', 'isspace', 'istitle', 'isupper', 'join', 'ljust', 'lower', 'lstrip', 'maketrans', 'partition', 'removeprefix', 'removesuffix', 'replace', 'rfind', 'rindex', 'rjust', 'rpartition', 'rsplit', 'rstrip', 'split', 'splitlines', 'startswith', 'strip', 'swapcase', 'title', 'translate', 'upper', 'zfill']\n",
      "['__abs__', '__add__', '__and__', '__bool__', '__ceil__', '__class__', '__delattr__', '__dir__', '__divmod__', '__doc__', '__eq__', '__float__', '__floor__', '__floordiv__', '__format__', '__ge__', '__getattribute__', '__getnewargs__', '__getstate__', '__gt__', '__hash__', '__index__', '__init__', '__init_subclass__', '__int__', '__invert__', '__le__', '__lshift__', '__lt__', '__mod__', '__mul__', '__ne__', '__neg__', '__new__', '__or__', '__pos__', '__pow__', '__radd__', '__rand__', '__rdivmod__', '__reduce__', '__reduce_ex__', '__repr__', '__rfloordiv__', '__rlshift__', '__rmod__', '__rmul__', '__ror__', '__round__', '__rpow__', '__rrshift__', '__rshift__', '__rsub__', '__rtruediv__', '__rxor__', '__setattr__', '__sizeof__', '__str__', '__sub__', '__subclasshook__', '__truediv__', '__trunc__', '__xor__', 'as_integer_ratio', 'bit_count', 'bit_length', 'conjugate', 'denominator', 'from_bytes', 'imag', 'is_integer', 'numerator', 'real', 'to_bytes']\n"
     ]
    }
   ],
   "source": [
    "# dir BIF\n",
    "print(dir(str))\n",
    "print(dir(int))"
   ]
  },
  {
   "cell_type": "code",
   "execution_count": 11,
   "id": "07dea35a",
   "metadata": {},
   "outputs": [
    {
     "name": "stdout",
     "output_type": "stream",
     "text": [
      "Help on method_descriptor:\n",
      "\n",
      "strip(self, chars=None, /)\n",
      "    Return a copy of the string with leading and trailing whitespace removed.\n",
      "\n",
      "    If chars is given and not None, remove characters in chars instead.\n",
      "\n"
     ]
    }
   ],
   "source": [
    "# help BIF\n",
    "help(str.strip)"
   ]
  },
  {
   "cell_type": "code",
   "execution_count": 16,
   "id": "f334aa8a",
   "metadata": {},
   "outputs": [
    {
     "name": "stdout",
     "output_type": "stream",
     "text": [
      "'Hello.'\n"
     ]
    }
   ],
   "source": [
    "# strip method\n",
    "text = \"    Hello.    \"\n",
    "print(\"'\" + text.strip() + \"'\")\n",
    "##print(text)"
   ]
  },
  {
   "cell_type": "code",
   "execution_count": 17,
   "id": "9d1d101e",
   "metadata": {},
   "outputs": [
    {
     "name": "stdout",
     "output_type": "stream",
     "text": [
      "I love Python\n"
     ]
    }
   ],
   "source": [
    "# replace\n",
    "msg = \"I love Java\"\n",
    "print(msg.replace(\"Java\", \"Python\"))"
   ]
  },
  {
   "cell_type": "code",
   "execution_count": 23,
   "id": "c0181dd6",
   "metadata": {},
   "outputs": [
    {
     "ename": "TypeError",
     "evalue": "can only concatenate str (not \"int\") to str",
     "output_type": "error",
     "traceback": [
      "\u001b[31m---------------------------------------------------------------------------\u001b[39m",
      "\u001b[31mTypeError\u001b[39m                                 Traceback (most recent call last)",
      "\u001b[36mCell\u001b[39m\u001b[36m \u001b[39m\u001b[32mIn[23]\u001b[39m\u001b[32m, line 5\u001b[39m\n\u001b[32m      3\u001b[39m s2 = \u001b[33m\"\u001b[39m\u001b[33mWorld\u001b[39m\u001b[33m\"\u001b[39m\n\u001b[32m      4\u001b[39m s3 = s1 + \u001b[33m\"\u001b[39m\u001b[33m \u001b[39m\u001b[33m\"\u001b[39m + s2\n\u001b[32m----> \u001b[39m\u001b[32m5\u001b[39m s4 = \u001b[43ms3\u001b[49m\u001b[43m \u001b[49m\u001b[43m+\u001b[49m\u001b[43m \u001b[49m\u001b[32;43m10\u001b[39;49m\n\u001b[32m      7\u001b[39m \u001b[38;5;28mprint\u001b[39m(s1)\n\u001b[32m      8\u001b[39m \u001b[38;5;28mprint\u001b[39m(s2)\n",
      "\u001b[31mTypeError\u001b[39m: can only concatenate str (not \"int\") to str"
     ]
    }
   ],
   "source": [
    "# Concatenate and repeat strings\n",
    "s1 = \"Hello\"\n",
    "s2 = \"World\"\n",
    "s3 = s1 + \" \" + s2\n",
    "s4 = s3 + 10\n",
    "\n",
    "print(s1)\n",
    "print(s2)\n",
    "print(s3)\n",
    "print(s4)"
   ]
  },
  {
   "cell_type": "code",
   "execution_count": 24,
   "id": "a9246ba8",
   "metadata": {},
   "outputs": [
    {
     "name": "stdout",
     "output_type": "stream",
     "text": [
      "John Torres\n"
     ]
    }
   ],
   "source": [
    "first_name = \"john\"\n",
    "last_name = \"torres\"\n",
    "full_name = f\"{first_name} {last_name}\"\n",
    "print(full_name.title())\n"
   ]
  },
  {
   "cell_type": "code",
   "execution_count": 25,
   "id": "a763efdd",
   "metadata": {},
   "outputs": [
    {
     "name": "stdout",
     "output_type": "stream",
     "text": [
      "Hello WorldHello WorldHello WorldHello WorldHello World\n"
     ]
    }
   ],
   "source": [
    "print(\"Hello World\" * 5)"
   ]
  }
 ],
 "metadata": {
  "kernelspec": {
   "display_name": "Python 3",
   "language": "python",
   "name": "python3"
  },
  "language_info": {
   "codemirror_mode": {
    "name": "ipython",
    "version": 3
   },
   "file_extension": ".py",
   "mimetype": "text/x-python",
   "name": "python",
   "nbconvert_exporter": "python",
   "pygments_lexer": "ipython3",
   "version": "3.12.1"
  }
 },
 "nbformat": 4,
 "nbformat_minor": 5
}
