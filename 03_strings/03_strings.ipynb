{
 "cells": [
  {
   "cell_type": "code",
   "execution_count": 1,
   "id": "03e6e736",
   "metadata": {},
   "outputs": [
    {
     "name": "stdout",
     "output_type": "stream",
     "text": [
      "14\n"
     ]
    }
   ],
   "source": [
    "# len function\n",
    "# Returns the number of elements in the collection\n",
    "text = \"Hello, Python!\"\n",
    "length = len(text)\n",
    "print(length)"
   ]
  },
  {
   "cell_type": "code",
   "execution_count": 9,
   "id": "4c2632f1",
   "metadata": {},
   "outputs": [
    {
     "name": "stdout",
     "output_type": "stream",
     "text": [
      "J\n",
      "h\n",
      "n\n",
      "o\n"
     ]
    }
   ],
   "source": [
    "# Access the Elements\n",
    "name = \"John\"\n",
    "print(name[0])\n",
    "print(name[2])\n",
    "\n",
    "# use negative indices\n",
    "print(name[-1]) # last character \n",
    "\n",
    "print(name[-3])"
   ]
  },
  {
   "cell_type": "code",
   "execution_count": null,
   "id": "245e6323",
   "metadata": {},
   "outputs": [
    {
     "name": "stdout",
     "output_type": "stream",
     "text": [
      "Pyt\n",
      "tho\n",
      "ython\n",
      "Python\n",
      "Pyt\n",
      "hon\n",
      "Pto\n",
      "nohtyP\n",
      "nhy\n"
     ]
    }
   ],
   "source": [
    "# String Slicing\n",
    "language = \"Python\"\n",
    "print(language[0:3]) # Prints first 3 Characters\n",
    "print(language[2:5]) \n",
    "\n",
    "print(language[1:len(language)])\n",
    "print(language[0:len(language)])\n",
    "\n",
    "# omit the first and the left indices\n",
    "print(language[:3])\n",
    "\n",
    "#use negative indices for slicing\n",
    "print(language[-3:])\n",
    "\n",
    "#set the step of slicing\n",
    "print(language[::2])\n",
    "\n",
    "# reverse a string \n",
    "print(language[::-1])\n",
    "\n",
    "print(language[::-2])"
   ]
  },
  {
   "cell_type": "code",
   "execution_count": 2,
   "id": "eae043dd",
   "metadata": {},
   "outputs": [
    {
     "name": "stdout",
     "output_type": "stream",
     "text": [
      "56789\n",
      "6789\n",
      "12389\n"
     ]
    }
   ],
   "source": [
    "text = \"123456789\"\n",
    "# Print the second half of the string\n",
    "print(text[len(text) //2:])\n",
    "print(text[5:9])\n",
    "\n",
    "# Print first 3 characaters and last 2 characters\n",
    "print(text[0:3] + text[-2:])"
   ]
  },
  {
   "cell_type": "code",
   "execution_count": 1,
   "id": "05502813",
   "metadata": {},
   "outputs": [
    {
     "name": "stdout",
     "output_type": "stream",
     "text": [
      "1Jet\n"
     ]
    }
   ],
   "source": [
    "text = \"123456789\"\n",
    "J = \"Jet\"\n",
    "print(text[0:1] + J)"
   ]
  },
  {
   "cell_type": "code",
   "execution_count": null,
   "id": "c9eecf8b",
   "metadata": {},
   "outputs": [
    {
     "name": "stdout",
     "output_type": "stream",
     "text": [
      "Sup\n"
     ]
    }
   ],
   "source": [
    "# if statemenets\n",
    "# 4 spaces for indentation \n",
    "x = 12\n",
    "if x > 5:\n",
    "    print(\"Sup\")"
   ]
  },
  {
   "cell_type": "code",
   "execution_count": 15,
   "id": "917e84eb",
   "metadata": {},
   "outputs": [
    {
     "name": "stdout",
     "output_type": "stream",
     "text": [
      "['toyota', ' bmw', ' audi', ' volkswagen', ' nissan']\n",
      "Toyota\n",
      "BMW\n",
      "AUDI\n",
      "Volkswagen\n",
      "Nissan\n"
     ]
    }
   ],
   "source": [
    "# split the string\n",
    "makes = \"toyota, bmw, audi, volkswagen, nissan\"\n",
    "car_makes = makes.split(\",\") # car_makes is a list (array) of strings\n",
    "\n",
    "print(car_makes)\n",
    "\n",
    "# iterate through the list\n",
    "for make in car_makes:\n",
    "    make=make.lstrip()\n",
    "    if make in [\"bmw\", \"audi\"]:\n",
    "        print(make.upper())\n",
    "    else:\n",
    "        print(make.title())\n",
    "  \n"
   ]
  },
  {
   "cell_type": "code",
   "execution_count": null,
   "id": "ef86e934",
   "metadata": {},
   "outputs": [
    {
     "name": "stdout",
     "output_type": "stream",
     "text": [
      "1\n",
      "6\n",
      "11\n",
      "16\n",
      "21\n",
      "26\n",
      "31\n",
      "36\n",
      "41\n",
      "46\n",
      "51\n",
      "56\n",
      "61\n",
      "66\n",
      "71\n",
      "76\n",
      "81\n",
      "86\n",
      "91\n",
      "96\n"
     ]
    }
   ],
   "source": [
    "# for loop\n",
    "# range BIF\n",
    "for i in range(1,100, 5):\n",
    "    print(i)\n",
    "\n",
    "\n",
    "# Print the squares of numbers [1:30]\n",
    "# Print the squares [1:30] of numbers "
   ]
  }
 ],
 "metadata": {
  "kernelspec": {
   "display_name": "Python 3",
   "language": "python",
   "name": "python3"
  },
  "language_info": {
   "codemirror_mode": {
    "name": "ipython",
    "version": 3
   },
   "file_extension": ".py",
   "mimetype": "text/x-python",
   "name": "python",
   "nbconvert_exporter": "python",
   "pygments_lexer": "ipython3",
   "version": "3.12.1"
  }
 },
 "nbformat": 4,
 "nbformat_minor": 5
}
